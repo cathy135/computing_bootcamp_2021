{
 "cells": [
  {
   "cell_type": "markdown",
   "id": "phantom-winner",
   "metadata": {},
   "source": [
    "# UN Votes\n",
    "Author: Cathy "
   ]
  },
  {
   "cell_type": "markdown",
   "id": "iraqi-breathing",
   "metadata": {},
   "source": [
    "## Introduction\n",
    "\n",
    "How do various countries vote in the United Nations General Assembly, how have their voting patterns evolved throughout time, and how similarly or differently do they view certain issues?\n",
    "Answering these questions (at a high level) is the focus of this analysis. comment for push\n",
    "\n",
    "### Libraries\n",
    "\n",
    "We will use the **pandas** and **seaborn** for data wrangling and visualization, and the **DT** package for interactive display of tabular output, and the **unvotes** package for the data."
   ]
  },
  {
   "cell_type": "code",
   "execution_count": null,
   "id": "alone-solomon",
   "metadata": {},
   "outputs": [],
   "source": [
    "# Display plots inline\n",
    "%matplotlib inline\n",
    "\n",
    "# Data libraries\n",
    "import pandas as pd\n",
    "\n",
    "# Plotting libraries\n",
    "import matplotlib.pyplot as plt\n",
    "import seaborn as sns\n",
    "\n",
    "# Plotting defaults\n",
    "plt.rcParams['figure.figsize'] = (8,5)\n",
    "plt.rcParams['figure.dpi'] = 80\n",
    "\n",
    "# comment for commit"
   ]
  },
  {
   "cell_type": "markdown",
   "id": "equipped-reservoir",
   "metadata": {},
   "source": [
    "### Data\n",
    "\n",
    "The data we're using originally come from the **unvotes** R package.\n",
    "In the chunk below we modify the data by joining the various data frames provided in the package to help you get started with the analysis."
   ]
  },
  {
   "cell_type": "code",
   "execution_count": null,
   "id": "another-outline",
   "metadata": {},
   "outputs": [],
   "source": [
    "un_votes = pd.read_csv(\"data/un_votes.csv\")\n",
    "un_roll_calls = pd.read_csv(\"data/un_roll_calls.csv\")\n",
    "un_roll_call_issues = pd.read_csv(\"data/un_roll_call_issues.csv\")"
   ]
  },
  {
   "cell_type": "code",
   "execution_count": null,
   "id": "cross-function",
   "metadata": {},
   "outputs": [],
   "source": [
    "un_votes.loc[un_votes[\"country\"] == \"United Kingdom\", \"country\"] = \"UK\"\n",
    "un_votes.loc[un_votes[\"country\"] == \"United States\", \"country\"] = \"US\"\n",
    "\n",
    "unvotes = un_votes.merge(\n",
    "    un_roll_calls, how = \"inner\", on = \"rcid\"\n",
    ").merge(\n",
    "    un_roll_call_issues, how = \"inner\", on = \"rcid\"\n",
    ")"
   ]
  },
  {
   "cell_type": "code",
   "execution_count": null,
   "id": "worth-suffering",
   "metadata": {},
   "outputs": [],
   "source": [
    "unvotes"
   ]
  },
  {
   "cell_type": "markdown",
   "id": "valid-runner",
   "metadata": {
    "tags": []
   },
   "source": [
    "## UN voting patterns\n",
    "\n",
    "Let's create a data visualisation that displays how the voting record of the *UK & NI* changed over time on a variety of issues, and compares it to two other countries: *US* and *Turkey*.\n",
    "\n",
    "We can easily change which countries are being plotted by changing which countries the code above `filter`s for.\n",
    "Note that the country name should be spelled and capitalized exactly the same way as it appears in the data.\n",
    "See the [Appendix](#appendix) for a list of the countries in the data."
   ]
  },
  {
   "cell_type": "code",
   "execution_count": null,
   "id": "mobile-possible",
   "metadata": {},
   "outputs": [],
   "source": [
    "countries = [\"UK\", \"US\", \"Turkey\"]\n",
    "\n",
    "votes = unvotes.query(\n",
    "  \"country == @countries\"   \n",
    ").assign(\n",
    "  year = lambda df: pd.DatetimeIndex(df['date']).year,\n",
    "  vote = lambda df: (df['vote'] == 'yes').astype(int)\n",
    ").groupby(\n",
    "  [\"country\", \"year\", \"issue\"],\n",
    "  as_index = False\n",
    ").agg(\n",
    "  {'vote': 'mean'}   \n",
    ")"
   ]
  },
  {
   "cell_type": "code",
   "execution_count": null,
   "id": "empty-appearance",
   "metadata": {},
   "outputs": [],
   "source": [
    "g = sns.FacetGrid(\n",
    "    votes, col=\"issue\", hue=\"country\", col_wrap = 3, height=4, aspect=1.2\n",
    ").map(\n",
    "    sns.regplot, \"year\", \"vote\", lowess=True\n",
    ").add_legend()\n",
    "\n",
    "plt.show(g)"
   ]
  },
  {
   "cell_type": "markdown",
   "id": "statewide-announcement",
   "metadata": {
    "tags": []
   },
   "source": [
    "## References\n",
    "\n",
    "1.  David Robinson (2017). [unvotes](https://CRAN.R-project.org/package=unvotes): United Nations General Assembly Voting Data. R package version 0.2.0.\n",
    "2.  Erik Voeten \"Data and Analyses of Voting in the UN General Assembly\" Routledge Handbook of International Organization, edited by Bob Reinalda (published May 27, 2013).\n",
    "3.  Much of the analysis has been modeled on the examples presented in the [unvotes package vignette](https://cran.r-project.org/web/packages/unvotes/vignettes/unvotes.html).\n"
   ]
  }
 ],
 "metadata": {
  "kernelspec": {
   "display_name": "Python 3 (ipykernel)",
   "language": "python",
   "name": "python3"
  },
  "language_info": {
   "codemirror_mode": {
    "name": "ipython",
    "version": 3
   },
   "file_extension": ".py",
   "mimetype": "text/x-python",
   "name": "python",
   "nbconvert_exporter": "python",
   "pygments_lexer": "ipython3",
   "version": "3.9.6"
  }
 },
 "nbformat": 4,
 "nbformat_minor": 5
}
